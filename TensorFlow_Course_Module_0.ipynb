{
  "nbformat": 4,
  "nbformat_minor": 0,
  "metadata": {
    "colab": {
      "provenance": [],
      "gpuType": "T4",
      "authorship_tag": "ABX9TyMyu3IOcHhhXuMHAMrqW+9n",
      "include_colab_link": true
    },
    "kernelspec": {
      "name": "python3",
      "display_name": "Python 3"
    },
    "language_info": {
      "name": "python"
    },
    "accelerator": "GPU"
  },
  "cells": [
    {
      "cell_type": "markdown",
      "metadata": {
        "id": "view-in-github",
        "colab_type": "text"
      },
      "source": [
        "<a href=\"https://colab.research.google.com/github/sanjibsinha/beginning-tensorflow-with-python/blob/main/TensorFlow_Course_Module_0.ipynb\" target=\"_parent\"><img src=\"https://colab.research.google.com/assets/colab-badge.svg\" alt=\"Open In Colab\"/></a>"
      ]
    },
    {
      "cell_type": "code",
      "execution_count": 2,
      "metadata": {
        "colab": {
          "base_uri": "https://localhost:8080/"
        },
        "id": "7EPb9Fz6NDCa",
        "outputId": "37ff9ce0-241d-4f15-c98c-fa857604821b"
      },
      "outputs": [
        {
          "output_type": "stream",
          "name": "stdout",
          "text": [
            "2.18.0\n"
          ]
        }
      ],
      "source": [
        "import tensorflow as tf\n",
        "print(tf.__version__)"
      ]
    },
    {
      "cell_type": "code",
      "source": [
        "# Scalar (0-dimensional tensor)\n",
        "scalar = tf.constant(10)\n",
        "print(\"Scalar:\", scalar)\n",
        "print(\"Shape of scalar:\", scalar.shape)\n",
        "print(\"Data type of scalar:\", scalar.dtype)\n",
        "\n",
        "# Vector (1-dimensional tensor)\n",
        "vector = tf.constant([1, 2, 3, 4, 5])\n",
        "print(\"\\nVector:\", vector)\n",
        "print(\"Shape of vector:\", vector.shape)\n",
        "print(\"Data type of vector:\", vector.dtype)\n",
        "\n",
        "# Matrix (2-dimensional tensor) - default data type is float32\n",
        "matrix = tf.constant([[10, 20, 30],\n",
        "                      [40, 50, 60]])\n",
        "print(\"\\nMatrix:\", matrix)\n",
        "print(\"Shape of matrix:\", matrix.shape)\n",
        "print(\"Data type of matrix:\", matrix.dtype)\n",
        "\n",
        "# Another Matrix (specify data type)\n",
        "another_matrix = tf.constant([[7., 8.],\n",
        "                              [9., 10.],\n",
        "                              [11., 12.]], dtype=tf.float16)\n",
        "print(\"\\nAnother Matrix:\", another_matrix)\n",
        "print(\"Shape of another matrix:\", another_matrix.shape)\n",
        "print(\"Data type of another matrix:\", another_matrix.dtype)\n",
        "\n",
        "# 3-dimensional tensor\n",
        "tensor_3d = tf.constant([[[1, 2, 3],\n",
        "                          [4, 5, 6]],\n",
        "                         [[7, 8, 9],\n",
        "                          [10, 11, 12]]])\n",
        "print(\"\\n3D Tensor:\", tensor_3d)\n",
        "print(\"Shape of 3D Tensor:\", tensor_3d.shape)\n",
        "print(\"Data type of 3D Tensor:\", tensor_3d.dtype)"
      ],
      "metadata": {
        "colab": {
          "base_uri": "https://localhost:8080/"
        },
        "id": "7rBPEJr1NhSR",
        "outputId": "2476dce3-6cb8-43f4-d160-7954c7c7cd64"
      },
      "execution_count": 3,
      "outputs": [
        {
          "output_type": "stream",
          "name": "stdout",
          "text": [
            "Scalar: tf.Tensor(10, shape=(), dtype=int32)\n",
            "Shape of scalar: ()\n",
            "Data type of scalar: <dtype: 'int32'>\n",
            "\n",
            "Vector: tf.Tensor([1 2 3 4 5], shape=(5,), dtype=int32)\n",
            "Shape of vector: (5,)\n",
            "Data type of vector: <dtype: 'int32'>\n",
            "\n",
            "Matrix: tf.Tensor(\n",
            "[[10 20 30]\n",
            " [40 50 60]], shape=(2, 3), dtype=int32)\n",
            "Shape of matrix: (2, 3)\n",
            "Data type of matrix: <dtype: 'int32'>\n",
            "\n",
            "Another Matrix: tf.Tensor(\n",
            "[[ 7.  8.]\n",
            " [ 9. 10.]\n",
            " [11. 12.]], shape=(3, 2), dtype=float16)\n",
            "Shape of another matrix: (3, 2)\n",
            "Data type of another matrix: <dtype: 'float16'>\n",
            "\n",
            "3D Tensor: tf.Tensor(\n",
            "[[[ 1  2  3]\n",
            "  [ 4  5  6]]\n",
            "\n",
            " [[ 7  8  9]\n",
            "  [10 11 12]]], shape=(2, 2, 3), dtype=int32)\n",
            "Shape of 3D Tensor: (2, 2, 3)\n",
            "Data type of 3D Tensor: <dtype: 'int32'>\n"
          ]
        }
      ]
    },
    {
      "cell_type": "code",
      "source": [
        "tensor_A = tf.constant([[1, 2], [3, 4]])\n",
        "tensor_B = tf.constant([[5, 6], [7, 8]])\n",
        "\n",
        "# Addition\n",
        "add_result = tensor_A + tensor_B # or tf.add(tensor_A, tensor_B)\n",
        "print(\"Tensor A + Tensor B:\\n\", add_result)\n",
        "\n",
        "# Multiplication (element-wise)\n",
        "multiply_result_elementwise = tensor_A * tensor_B # or tf.multiply(tensor_A, tensor_B)\n",
        "print(\"\\nTensor A * Tensor B (element-wise):\\n\", multiply_result_elementwise)\n",
        "\n",
        "# Matrix Multiplication (this is crucial in neural networks)\n",
        "# For matrix multiplication, the inner dimensions must match.\n",
        "# Shape of A is (2, 2), Shape of B is (2, 2). Inner dimensions are 2 and 2 (match).\n",
        "# Result shape will be (2, 2).\n",
        "matmul_result = tf.matmul(tensor_A, tensor_B) # or tensor_A @ tensor_B\n",
        "print(\"\\nTensor A @ Tensor B (matrix multiplication):\\n\", matmul_result)\n",
        "\n",
        "# Transposing a tensor (flipping rows and columns)\n",
        "transpose_A = tf.transpose(tensor_A)\n",
        "print(\"\\nTranspose of Tensor A:\\n\", transpose_A)\n",
        "\n",
        "# Try matrix multiplication with transpose\n",
        "# Shape of A is (2, 2), Shape of Transpose of A is (2, 2).\n",
        "# Result shape will be (2, 2).\n",
        "matmul_A_transpose_A = tf.matmul(tensor_A, tf.transpose(tensor_A))\n",
        "print(\"\\nTensor A @ Transpose of Tensor A:\\n\", matmul_A_transpose_A)\n",
        "\n",
        "# Create a 3D tensor and access elements (optional but good practice)\n",
        "tensor_3d_slice = tensor_3d[0, :, :] # Get the first matrix\n",
        "print(\"\\nSlice of 3D Tensor (first matrix):\\n\", tensor_3d_slice)\n",
        "\n",
        "tensor_3d_element = tensor_3d[1, 0, 2] # Get element at index [1, 0, 2]\n",
        "print(\"\\nElement of 3D Tensor at [1, 0, 2]:\", tensor_3d_element.numpy()) # .numpy() converts tensor to NumPy array"
      ],
      "metadata": {
        "colab": {
          "base_uri": "https://localhost:8080/"
        },
        "id": "p1kopelMNtDp",
        "outputId": "7536ee8e-d036-4828-fbe4-aa4ef0509c2b"
      },
      "execution_count": 4,
      "outputs": [
        {
          "output_type": "stream",
          "name": "stdout",
          "text": [
            "Tensor A + Tensor B:\n",
            " tf.Tensor(\n",
            "[[ 6  8]\n",
            " [10 12]], shape=(2, 2), dtype=int32)\n",
            "\n",
            "Tensor A * Tensor B (element-wise):\n",
            " tf.Tensor(\n",
            "[[ 5 12]\n",
            " [21 32]], shape=(2, 2), dtype=int32)\n",
            "\n",
            "Tensor A @ Tensor B (matrix multiplication):\n",
            " tf.Tensor(\n",
            "[[19 22]\n",
            " [43 50]], shape=(2, 2), dtype=int32)\n",
            "\n",
            "Transpose of Tensor A:\n",
            " tf.Tensor(\n",
            "[[1 3]\n",
            " [2 4]], shape=(2, 2), dtype=int32)\n",
            "\n",
            "Tensor A @ Transpose of Tensor A:\n",
            " tf.Tensor(\n",
            "[[ 5 11]\n",
            " [11 25]], shape=(2, 2), dtype=int32)\n",
            "\n",
            "Slice of 3D Tensor (first matrix):\n",
            " tf.Tensor(\n",
            "[[1 2 3]\n",
            " [4 5 6]], shape=(2, 3), dtype=int32)\n",
            "\n",
            "Element of 3D Tensor at [1, 0, 2]: 9\n"
          ]
        }
      ]
    }
  ]
}