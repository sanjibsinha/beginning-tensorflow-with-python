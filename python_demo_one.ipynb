{
  "nbformat": 4,
  "nbformat_minor": 0,
  "metadata": {
    "colab": {
      "name": "python-demo-one.ipynb",
      "provenance": [],
      "authorship_tag": "ABX9TyOb3LnLycvhFE7m9mDULIHm",
      "include_colab_link": true
    },
    "kernelspec": {
      "name": "python3",
      "display_name": "Python 3"
    },
    "language_info": {
      "name": "python"
    }
  },
  "cells": [
    {
      "cell_type": "markdown",
      "metadata": {
        "id": "view-in-github",
        "colab_type": "text"
      },
      "source": [
        "<a href=\"https://colab.research.google.com/github/sanjibsinha/beginning-tensorflow-with-python/blob/python-demos/python_demo_one.ipynb\" target=\"_parent\"><img src=\"https://colab.research.google.com/assets/colab-badge.svg\" alt=\"Open In Colab\"/></a>"
      ]
    },
    {
      "cell_type": "code",
      "execution_count": null,
      "metadata": {
        "colab": {
          "base_uri": "https://localhost:8080/"
        },
        "id": "sBFdYsXYv-xn",
        "outputId": "8566500d-979d-4314-b1ad-e5ec90eaa52d"
      },
      "outputs": [
        {
          "output_type": "stream",
          "name": "stdout",
          "text": [
            "25.23\n"
          ]
        }
      ],
      "source": [
        "scalar = 25.23\n",
        "print(scalar)"
      ]
    },
    {
      "cell_type": "code",
      "source": [
        "vector = [4, 7]\n",
        "print(vector)"
      ],
      "metadata": {
        "colab": {
          "base_uri": "https://localhost:8080/"
        },
        "id": "aHJLAVTcwMrt",
        "outputId": "892ddcc6-6660-4c44-acc0-5d3530f3d362"
      },
      "execution_count": null,
      "outputs": [
        {
          "output_type": "stream",
          "name": "stdout",
          "text": [
            "[4, 7]\n"
          ]
        }
      ]
    },
    {
      "cell_type": "code",
      "source": [
        "print(vector[0])\n",
        "print(vector[1])"
      ],
      "metadata": {
        "colab": {
          "base_uri": "https://localhost:8080/"
        },
        "id": "I8LzcR_swZLy",
        "outputId": "edf75008-0f7a-488b-b7c2-2c5a0fae2c64"
      },
      "execution_count": null,
      "outputs": [
        {
          "output_type": "stream",
          "name": "stdout",
          "text": [
            "4\n",
            "7\n"
          ]
        }
      ]
    },
    {
      "cell_type": "code",
      "source": [
        "matrix = [[4, 7], \n",
        "          [5, 6]\n",
        "          ]\n",
        "print(matrix)\n"
      ],
      "metadata": {
        "colab": {
          "base_uri": "https://localhost:8080/"
        },
        "id": "pbagfNAuwkgq",
        "outputId": "2128b9ec-2001-4ca4-ef00-058fbdde87a4"
      },
      "execution_count": 13,
      "outputs": [
        {
          "output_type": "stream",
          "name": "stdout",
          "text": [
            "[[4, 7], [5, 6]]\n"
          ]
        }
      ]
    },
    {
      "cell_type": "code",
      "source": [
        "matrix = [vector, vector]\n",
        "print(matrix)"
      ],
      "metadata": {
        "colab": {
          "base_uri": "https://localhost:8080/"
        },
        "id": "MSjKrD-5znYB",
        "outputId": "2d4b78b4-5b1f-4842-a8b6-3357a3416635"
      },
      "execution_count": null,
      "outputs": [
        {
          "output_type": "stream",
          "name": "stdout",
          "text": [
            "[[4, 7], [4, 7]]\n"
          ]
        }
      ]
    },
    {
      "cell_type": "code",
      "source": [
        "tensor = [\n",
        "          \n",
        "           [\n",
        "            [4, 7], [5, 6]\n",
        "           ], \n",
        "           [\n",
        "            [4, 7], [5, 6]\n",
        "           ], \n",
        "           [\n",
        "            [4, 7], [5, 6]\n",
        "           ]\n",
        "          \n",
        "]\n",
        "print(tensor)"
      ],
      "metadata": {
        "colab": {
          "base_uri": "https://localhost:8080/"
        },
        "id": "09uIuKekz5KL",
        "outputId": "bf23845e-d897-42d9-8b8d-19963673d842"
      },
      "execution_count": 14,
      "outputs": [
        {
          "output_type": "stream",
          "name": "stdout",
          "text": [
            "[[[4, 7], [5, 6]], [[4, 7], [5, 6]], [[4, 7], [5, 6]]]\n"
          ]
        }
      ]
    },
    {
      "cell_type": "code",
      "source": [
        "tensor = [matrix, \n",
        "          matrix, \n",
        "          matrix\n",
        "          ]"
      ],
      "metadata": {
        "id": "JlUD_QDryraU"
      },
      "execution_count": 15,
      "outputs": []
    },
    {
      "cell_type": "code",
      "source": [
        "print(tensor)"
      ],
      "metadata": {
        "colab": {
          "base_uri": "https://localhost:8080/"
        },
        "id": "5KjR-XIny3s4",
        "outputId": "b097cc0d-b976-4071-9c17-0d3e2f5576bd"
      },
      "execution_count": 16,
      "outputs": [
        {
          "output_type": "stream",
          "name": "stdout",
          "text": [
            "[[[4, 7], [5, 6]], [[4, 7], [5, 6]], [[4, 7], [5, 6]]]\n"
          ]
        }
      ]
    },
    {
      "cell_type": "code",
      "source": [
        ""
      ],
      "metadata": {
        "id": "pyyzW-5Ry66d"
      },
      "execution_count": null,
      "outputs": []
    }
  ]
}