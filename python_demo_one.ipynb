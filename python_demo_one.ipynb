{
  "nbformat": 4,
  "nbformat_minor": 0,
  "metadata": {
    "colab": {
      "name": "python-demo-one.ipynb",
      "provenance": [],
      "authorship_tag": "ABX9TyOc9EXk1cQCDZ1/q8AqF/PE",
      "include_colab_link": true
    },
    "kernelspec": {
      "name": "python3",
      "display_name": "Python 3"
    },
    "language_info": {
      "name": "python"
    }
  },
  "cells": [
    {
      "cell_type": "markdown",
      "metadata": {
        "id": "view-in-github",
        "colab_type": "text"
      },
      "source": [
        "<a href=\"https://colab.research.google.com/github/sanjibsinha/beginning-tensorflow-with-python/blob/python-demos/python_demo_one.ipynb\" target=\"_parent\"><img src=\"https://colab.research.google.com/assets/colab-badge.svg\" alt=\"Open In Colab\"/></a>"
      ]
    },
    {
      "cell_type": "code",
      "execution_count": 1,
      "metadata": {
        "colab": {
          "base_uri": "https://localhost:8080/"
        },
        "id": "sBFdYsXYv-xn",
        "outputId": "8566500d-979d-4314-b1ad-e5ec90eaa52d"
      },
      "outputs": [
        {
          "output_type": "stream",
          "name": "stdout",
          "text": [
            "25.23\n"
          ]
        }
      ],
      "source": [
        "scalar = 25.23\n",
        "print(scalar)"
      ]
    },
    {
      "cell_type": "code",
      "source": [
        "vector = [4, 7]\n",
        "print(vector)"
      ],
      "metadata": {
        "colab": {
          "base_uri": "https://localhost:8080/"
        },
        "id": "aHJLAVTcwMrt",
        "outputId": "892ddcc6-6660-4c44-acc0-5d3530f3d362"
      },
      "execution_count": 2,
      "outputs": [
        {
          "output_type": "stream",
          "name": "stdout",
          "text": [
            "[4, 7]\n"
          ]
        }
      ]
    },
    {
      "cell_type": "code",
      "source": [
        "print(vector[0])\n",
        "print(vector[1])"
      ],
      "metadata": {
        "colab": {
          "base_uri": "https://localhost:8080/"
        },
        "id": "I8LzcR_swZLy",
        "outputId": "edf75008-0f7a-488b-b7c2-2c5a0fae2c64"
      },
      "execution_count": 3,
      "outputs": [
        {
          "output_type": "stream",
          "name": "stdout",
          "text": [
            "4\n",
            "7\n"
          ]
        }
      ]
    },
    {
      "cell_type": "code",
      "source": [
        ""
      ],
      "metadata": {
        "id": "pbagfNAuwkgq"
      },
      "execution_count": null,
      "outputs": []
    }
  ]
}