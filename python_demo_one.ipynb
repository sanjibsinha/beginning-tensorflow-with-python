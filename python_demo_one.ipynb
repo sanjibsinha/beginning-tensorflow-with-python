{
  "nbformat": 4,
  "nbformat_minor": 0,
  "metadata": {
    "colab": {
      "name": "python-demo-one.ipynb",
      "provenance": [],
      "authorship_tag": "ABX9TyND3DQu3GdJCmRsZpuTIza+",
      "include_colab_link": true
    },
    "kernelspec": {
      "name": "python3",
      "display_name": "Python 3"
    },
    "language_info": {
      "name": "python"
    }
  },
  "cells": [
    {
      "cell_type": "markdown",
      "metadata": {
        "id": "view-in-github",
        "colab_type": "text"
      },
      "source": [
        "<a href=\"https://colab.research.google.com/github/sanjibsinha/beginning-tensorflow-with-python/blob/python-demos/python_demo_one.ipynb\" target=\"_parent\"><img src=\"https://colab.research.google.com/assets/colab-badge.svg\" alt=\"Open In Colab\"/></a>"
      ]
    },
    {
      "cell_type": "code",
      "execution_count": 1,
      "metadata": {
        "colab": {
          "base_uri": "https://localhost:8080/"
        },
        "id": "sBFdYsXYv-xn",
        "outputId": "8566500d-979d-4314-b1ad-e5ec90eaa52d"
      },
      "outputs": [
        {
          "output_type": "stream",
          "name": "stdout",
          "text": [
            "25.23\n"
          ]
        }
      ],
      "source": [
        "scalar = 25.23\n",
        "print(scalar)"
      ]
    },
    {
      "cell_type": "code",
      "source": [
        "vector = [4, 7]\n",
        "print(vector)"
      ],
      "metadata": {
        "colab": {
          "base_uri": "https://localhost:8080/"
        },
        "id": "aHJLAVTcwMrt",
        "outputId": "892ddcc6-6660-4c44-acc0-5d3530f3d362"
      },
      "execution_count": 2,
      "outputs": [
        {
          "output_type": "stream",
          "name": "stdout",
          "text": [
            "[4, 7]\n"
          ]
        }
      ]
    },
    {
      "cell_type": "code",
      "source": [
        "print(vector[0])\n",
        "print(vector[1])"
      ],
      "metadata": {
        "colab": {
          "base_uri": "https://localhost:8080/"
        },
        "id": "I8LzcR_swZLy",
        "outputId": "edf75008-0f7a-488b-b7c2-2c5a0fae2c64"
      },
      "execution_count": 3,
      "outputs": [
        {
          "output_type": "stream",
          "name": "stdout",
          "text": [
            "4\n",
            "7\n"
          ]
        }
      ]
    },
    {
      "cell_type": "code",
      "source": [
        "matrix = [[4, 7], [5, 6]]\n",
        "print(matrix)\n"
      ],
      "metadata": {
        "colab": {
          "base_uri": "https://localhost:8080/"
        },
        "id": "pbagfNAuwkgq",
        "outputId": "a9704e72-abfe-40e1-c418-17aeba69c3f4"
      },
      "execution_count": 4,
      "outputs": [
        {
          "output_type": "stream",
          "name": "stdout",
          "text": [
            "[[4, 7], [5, 6]]\n"
          ]
        }
      ]
    },
    {
      "cell_type": "code",
      "source": [
        "matrix = [vector, vector]\n",
        "print(matrix)"
      ],
      "metadata": {
        "colab": {
          "base_uri": "https://localhost:8080/"
        },
        "id": "MSjKrD-5znYB",
        "outputId": "2d4b78b4-5b1f-4842-a8b6-3357a3416635"
      },
      "execution_count": 10,
      "outputs": [
        {
          "output_type": "stream",
          "name": "stdout",
          "text": [
            "[[4, 7], [4, 7]]\n"
          ]
        }
      ]
    },
    {
      "cell_type": "code",
      "source": [
        "tensor = [\n",
        "          [\n",
        "           [\n",
        "            [4, 7], [5, 6]\n",
        "           ], \n",
        "           [\n",
        "            [4, 7], [5, 6]\n",
        "           ], \n",
        "           [\n",
        "            [4, 7], [5, 6]\n",
        "           ]\n",
        "          ]\n",
        "]\n",
        "print(tensor)"
      ],
      "metadata": {
        "colab": {
          "base_uri": "https://localhost:8080/"
        },
        "id": "09uIuKekz5KL",
        "outputId": "8b980ca4-d99e-4cbe-be93-564aee377a32"
      },
      "execution_count": 12,
      "outputs": [
        {
          "output_type": "stream",
          "name": "stdout",
          "text": [
            "[[[[4, 7], [5, 6]], [[4, 7], [5, 6]], [[4, 7], [5, 6]]]]\n"
          ]
        }
      ]
    },
    {
      "cell_type": "code",
      "source": [
        "tensor = [[matrix], \n",
        "          [matrix], \n",
        "          [matrix]\n",
        "          ]"
      ],
      "metadata": {
        "id": "JlUD_QDryraU"
      },
      "execution_count": 8,
      "outputs": []
    },
    {
      "cell_type": "code",
      "source": [
        "print(tensor)"
      ],
      "metadata": {
        "colab": {
          "base_uri": "https://localhost:8080/"
        },
        "id": "5KjR-XIny3s4",
        "outputId": "e9617a52-a41f-4b1f-a2b5-bb1dac705b51"
      },
      "execution_count": 9,
      "outputs": [
        {
          "output_type": "stream",
          "name": "stdout",
          "text": [
            "[[[[4, 7], [5, 6]]], [[[4, 7], [5, 6]]], [[[4, 7], [5, 6]]]]\n"
          ]
        }
      ]
    },
    {
      "cell_type": "code",
      "source": [
        ""
      ],
      "metadata": {
        "id": "pyyzW-5Ry66d"
      },
      "execution_count": null,
      "outputs": []
    }
  ]
}